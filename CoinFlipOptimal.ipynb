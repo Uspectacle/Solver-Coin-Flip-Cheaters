{
  "nbformat": 4,
  "nbformat_minor": 0,
  "metadata": {
    "colab": {
      "name": "CoinFlipOptimal.ipynb",
      "provenance": [],
      "collapsed_sections": []
    },
    "kernelspec": {
      "name": "python3",
      "display_name": "Python 3"
    },
    "language_info": {
      "name": "python"
    }
  },
  "cells": [
    {
      "cell_type": "code",
      "execution_count": null,
      "metadata": {
        "id": "To2mMf8xp3Od"
      },
      "outputs": [],
      "source": [
        "import numpy as np"
      ]
    },
    {
      "cell_type": "code",
      "source": [
        "FAIR = 0\n",
        "CHEAT = 1\n",
        "HEAD = 0\n",
        "TAILS = 1\n",
        "prob_fair = 0.5\n",
        "prob_cheat = 0.75\n",
        "win_reward = 15\n",
        "loss_reward = -30 \n",
        "prior_prior = 0.5\n",
        "prob_coin = 0.5\n",
        "\n",
        "max_state = 5\n",
        "\n",
        "actions = ['toss', 'fair', 'cheat']\n",
        "states = np.array([[[i, j] for j in range(max_state)] for i in range(max_state)]).reshape(-1, 2)"
      ],
      "metadata": {
        "id": "Kf94MXfaqHGa"
      },
      "execution_count": null,
      "outputs": []
    },
    {
      "cell_type": "code",
      "source": [
        "def binomial(state, prob_head):\n",
        "  return prob_head**state[0] * (1 - prob_head)**state[1]"
      ],
      "metadata": {
        "id": "WFNud7K1si9R"
      },
      "execution_count": null,
      "outputs": []
    },
    {
      "cell_type": "code",
      "source": [
        "def posterior_cheat(state, prior_cheat):\n",
        "  return prior_cheat * binomial(state, prob_cheat) / (prior_cheat * binomial(state, prob_cheat) + (1 - prior_cheat) * binomial(state, prob_fair))"
      ],
      "metadata": {
        "id": "a8Jb9V_1qHAJ"
      },
      "execution_count": null,
      "outputs": []
    },
    {
      "cell_type": "code",
      "source": [
        "def expected(prob_cheat, aversion):\n",
        "  reward_cheat = prob_cheat * win_reward + (1 - prob_cheat) * loss_reward * aversion\n",
        "  reward_fair = (1 - prob_cheat) * win_reward + prob_cheat * loss_reward * aversion\n",
        "  return max(reward_cheat, reward_fair)"
      ],
      "metadata": {
        "id": "nnNk83oRtnCJ"
      },
      "execution_count": null,
      "outputs": []
    },
    {
      "cell_type": "code",
      "source": [
        "def next_state(state):\n",
        "  return [state + [0, 1], state + [1, 0]]"
      ],
      "metadata": {
        "id": "FHuJlAJ1y4iu"
      },
      "execution_count": null,
      "outputs": []
    },
    {
      "cell_type": "code",
      "source": [
        "def prob_head(prob_cheat):\n",
        "  return prob_cheat * prob_cheat + prob_fair * (1 - prob_cheat)"
      ],
      "metadata": {
        "id": "Fk59acu-z8LW"
      },
      "execution_count": null,
      "outputs": []
    },
    {
      "cell_type": "code",
      "source": [
        "def expected_next(state, prior_cheat, aversion):\n",
        "  expected_head = expected(posterior_cheat([1, 0], prior_cheat), aversion)\n",
        "  expected_tails = expected(posterior_cheat([0, 1], prior_cheat), aversion)\n",
        "  return expected_head * prob_head(prob_cheat) + expected_tails * (1 - prob_head(prob_cheat))"
      ],
      "metadata": {
        "id": "Feg8tKBGzHU2"
      },
      "execution_count": null,
      "outputs": []
    },
    {
      "cell_type": "code",
      "source": [
        "for state in states:\n",
        "  prob = posterior_cheat(state, prior_prior)\n",
        "  reward = expected(prob, 1)\n",
        "  expected_head = expected(posterior_cheat([1, 0], prob), 1)\n",
        "  expected_tails = expected(posterior_cheat([0, 1], prob), 1)\n",
        "  next_reward = expected_next(state, prob, 1)\n",
        "  print(f'state {state}:\\t prob {prob: 0.2f};\\t reward {reward: 0.2f};\\t expected_head {expected_head: 0.2f};\\t expected_tails {expected_tails: 0.2f};\\t next_reward {next_reward: 0.2f}')"
      ],
      "metadata": {
        "colab": {
          "base_uri": "https://localhost:8080/"
        },
        "id": "9cRaRp7av-bM",
        "outputId": "218fc0b3-bba2-441a-e4dc-5f9200dfa4c9"
      },
      "execution_count": null,
      "outputs": [
        {
          "output_type": "stream",
          "name": "stdout",
          "text": [
            "state [0 0]:\t prob  0.50;\t reward -7.50;\t expected_head -3.00;\t expected_tails  0.00;\t next_reward -2.06\n",
            "state [0 1]:\t prob  0.33;\t reward  0.00;\t expected_head -4.29;\t expected_tails  6.00;\t next_reward -1.07\n",
            "state [0 2]:\t prob  0.20;\t reward  6.00;\t expected_head  2.73;\t expected_tails  10.00;\t next_reward  5.00\n",
            "state [0 3]:\t prob  0.11;\t reward  10.00;\t expected_head  7.89;\t expected_tails  12.35;\t next_reward  9.29\n",
            "state [0 4]:\t prob  0.06;\t reward  12.35;\t expected_head  11.14;\t expected_tails  13.64;\t next_reward  11.92\n",
            "state [1 0]:\t prob  0.60;\t reward -3.00;\t expected_head  1.15;\t expected_tails -4.29;\t next_reward -0.55\n",
            "state [1 1]:\t prob  0.43;\t reward -4.29;\t expected_head -6.18;\t expected_tails  2.73;\t next_reward -3.39\n",
            "state [1 2]:\t prob  0.27;\t reward  2.73;\t expected_head -1.20;\t expected_tails  7.89;\t next_reward  1.64\n",
            "state [1 3]:\t prob  0.16;\t reward  7.89;\t expected_head  5.12;\t expected_tails  11.14;\t next_reward  7.00\n",
            "state [1 4]:\t prob  0.09;\t reward  11.14;\t expected_head  9.45;\t expected_tails  12.99;\t next_reward  10.56\n",
            "state [2 0]:\t prob  0.69;\t reward  1.15;\t expected_head  4.71;\t expected_tails -6.18;\t next_reward  1.31\n",
            "state [2 1]:\t prob  0.53;\t reward -6.18;\t expected_head -1.74;\t expected_tails -1.20;\t next_reward -1.57\n",
            "state [2 2]:\t prob  0.36;\t reward -1.20;\t expected_head -5.59;\t expected_tails  5.12;\t next_reward -2.24\n",
            "state [2 3]:\t prob  0.22;\t reward  5.12;\t expected_head  1.65;\t expected_tails  9.45;\t next_reward  4.09\n",
            "state [2 4]:\t prob  0.12;\t reward  9.45;\t expected_head  7.16;\t expected_tails  12.04;\t next_reward  8.69\n",
            "state [3 0]:\t prob  0.77;\t reward  4.71;\t expected_head  7.58;\t expected_tails -1.74;\t next_reward  4.66\n",
            "state [3 1]:\t prob  0.63;\t reward -1.74;\t expected_head  2.26;\t expected_tails -5.59;\t next_reward -0.20\n",
            "state [3 2]:\t prob  0.46;\t reward -5.59;\t expected_head -4.86;\t expected_tails  1.65;\t next_reward -2.83\n",
            "state [3 3]:\t prob  0.30;\t reward  1.65;\t expected_head -2.44;\t expected_tails  7.16;\t next_reward  0.56\n",
            "state [3 4]:\t prob  0.17;\t reward  7.16;\t expected_head  4.18;\t expected_tails  10.71;\t next_reward  6.22\n",
            "state [4 0]:\t prob  0.84;\t reward  7.58;\t expected_head  9.76;\t expected_tails  2.26;\t next_reward  7.42\n",
            "state [4 1]:\t prob  0.72;\t reward  2.26;\t expected_head  5.62;\t expected_tails -4.86;\t next_reward  2.34\n",
            "state [4 2]:\t prob  0.56;\t reward -4.86;\t expected_head -0.53;\t expected_tails -2.44;\t next_reward -1.12\n",
            "state [4 3]:\t prob  0.39;\t reward -2.44;\t expected_head -6.91;\t expected_tails  4.18;\t next_reward -3.45\n",
            "state [4 4]:\t prob  0.24;\t reward  4.18;\t expected_head  0.52;\t expected_tails  8.85;\t next_reward  3.12\n"
          ]
        }
      ]
    },
    {
      "cell_type": "code",
      "source": [
        "def rand(prob):\n",
        "  return int(np.random.rand() > prob)"
      ],
      "metadata": {
        "id": "N3aJyWND4Goe"
      },
      "execution_count": null,
      "outputs": []
    },
    {
      "cell_type": "code",
      "source": [
        "def choose(state, aversion, biais, no_toss = False):\n",
        "  prob = posterior_cheat(state, prior_prior)\n",
        "  reward = expected(prob, aversion)\n",
        "  next_reward = expected_next(state, prob, aversion) - 1\n",
        "  if (reward > next_reward and reward > biais) or no_toss:\n",
        "    return int(prob * win_reward + (1 - prob) * loss_reward < (1 - prob) * win_reward + prob * loss_reward)\n",
        "  else:\n",
        "    return 2"
      ],
      "metadata": {
        "id": "WHBt9vuU5sF3"
      },
      "execution_count": null,
      "outputs": []
    },
    {
      "cell_type": "code",
      "source": [
        "def game(aversion, biais):\n",
        "  toss = 100\n",
        "  data = [[0, 0], [0, 0]]\n",
        "  success = 0\n",
        "\n",
        "  while(toss>0):\n",
        "    coin = rand(prob_coin)\n",
        "    true_prob = prob_fair if coin else prob_cheat\n",
        "    state = [0, 0]\n",
        "    while(True):\n",
        "      choice = choose(state, aversion, biais, toss <= 0)\n",
        "      if choice == 2:\n",
        "        toss += -1\n",
        "        state[rand(true_prob)] += 1\n",
        "      else:\n",
        "        data[coin][choice] += 1\n",
        "        if coin == choice:\n",
        "          success += 1\n",
        "          out = 'WINS'\n",
        "          toss += win_reward\n",
        "        else: \n",
        "          out = 'LOST'\n",
        "          toss += loss_reward\n",
        "        break\n",
        "  return success\n",
        "    # print(f'coin {coin} - true_prob {true_prob: 0.2f} - choice {choice} - out {out} - state {state} - success {success} - toss {toss} ')"
      ],
      "metadata": {
        "id": "noB8spRJ3fXv"
      },
      "execution_count": null,
      "outputs": []
    },
    {
      "cell_type": "code",
      "source": [
        "def avg_game(aversion, biais, length):\n",
        "  avg = 0\n",
        "  for i in range(length):\n",
        "    avg += game(aversion, biais) / length\n",
        "  return avg"
      ],
      "metadata": {
        "id": "ENZl3Sqe8XYB"
      },
      "execution_count": null,
      "outputs": []
    },
    {
      "cell_type": "code",
      "source": [
        "for aver in np.arange(0.8, 1.3, 0.1):\n",
        "  for biais in np.arange(2.4, 3.61, 0.2):\n",
        "    print(f'aver {aver}\\tbiais {biais}: \\t{avg_game(aver, biais, 1000):0.2f}')\n"
      ],
      "metadata": {
        "colab": {
          "base_uri": "https://localhost:8080/"
        },
        "id": "nIO0W3u8GmoY",
        "outputId": "7e8f522a-00f6-4024-9f57-b02d48ce9d02"
      },
      "execution_count": null,
      "outputs": [
        {
          "output_type": "stream",
          "name": "stdout",
          "text": [
            "aver 0.8\tbiais 2.4: \t121.62\n",
            "aver 0.8\tbiais 2.6: \t125.17\n",
            "aver 0.8\tbiais 2.8000000000000003: \t126.60\n",
            "aver 0.8\tbiais 3.0000000000000004: \t240.47\n",
            "aver 0.8\tbiais 3.2000000000000006: \t214.78\n",
            "aver 0.8\tbiais 3.400000000000001: \t203.16\n",
            "aver 0.8\tbiais 3.600000000000001: \t315.43\n",
            "aver 0.9\tbiais 2.4: \t225.19\n",
            "aver 0.9\tbiais 2.6: \t360.05\n",
            "aver 0.9\tbiais 2.8000000000000003: \t288.94\n",
            "aver 0.9\tbiais 3.0000000000000004: \t286.71\n",
            "aver 0.9\tbiais 3.2000000000000006: \t426.81\n",
            "aver 0.9\tbiais 3.400000000000001: \t419.71\n",
            "aver 0.9\tbiais 3.600000000000001: \t669.66\n",
            "aver 1.0\tbiais 2.4: \t418.94\n",
            "aver 1.0\tbiais 2.6: \t475.70\n",
            "aver 1.0\tbiais 2.8000000000000003: \t472.72\n",
            "aver 1.0\tbiais 3.0000000000000004: \t536.81\n",
            "aver 1.0\tbiais 3.2000000000000006: \t673.14\n",
            "aver 1.0\tbiais 3.400000000000001: \t644.07\n",
            "aver 1.0\tbiais 3.600000000000001: \t505.63\n",
            "aver 1.1\tbiais 2.4: \t625.27\n",
            "aver 1.1\tbiais 2.6: \t833.84\n",
            "aver 1.1\tbiais 2.8000000000000003: \t567.66\n",
            "aver 1.1\tbiais 3.0000000000000004: \t628.06\n",
            "aver 1.1\tbiais 3.2000000000000006: \t854.39\n",
            "aver 1.1\tbiais 3.400000000000001: \t584.20\n",
            "aver 1.1\tbiais 3.600000000000001: \t581.44\n",
            "aver 1.2\tbiais 2.4: \t505.92\n",
            "aver 1.2\tbiais 2.6: \t714.97\n",
            "aver 1.2\tbiais 2.8000000000000003: \t520.31\n",
            "aver 1.2\tbiais 3.0000000000000004: \t616.72\n",
            "aver 1.2\tbiais 3.2000000000000006: \t625.38\n",
            "aver 1.2\tbiais 3.400000000000001: \t403.70\n",
            "aver 1.2\tbiais 3.600000000000001: \t395.41\n"
          ]
        }
      ]
    }
  ]
}